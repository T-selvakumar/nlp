{
  "nbformat": 4,
  "nbformat_minor": 0,
  "metadata": {
    "colab": {
      "provenance": []
    },
    "kernelspec": {
      "name": "python3",
      "display_name": "Python 3"
    },
    "language_info": {
      "name": "python"
    }
  },
  "cells": [
    {
      "cell_type": "code",
      "execution_count": 5,
      "metadata": {
        "colab": {
          "base_uri": "https://localhost:8080/"
        },
        "id": "LEeUyDFe2rFa",
        "outputId": "5f64945e-0717-4de7-98f2-fc81cb513ea3"
      },
      "outputs": [
        {
          "output_type": "stream",
          "name": "stdout",
          "text": [
            "1. Unigrams: \n",
            " Counter({'NLP': 1, 'assignment': 1, 'one': 1})\n",
            "\n",
            "2.Bigrams: \n",
            " Counter({('here', 'is'): 1, ('is', 'a'): 1, ('a', 'bigram'): 1, ('bigram', 'example'): 1})\n",
            "\n",
            "3. Trigrams: \n",
            " Counter({('example', 'of', 'trigram'): 1, ('of', 'trigram', 'in'): 1, ('trigram', 'in', 'nlp'): 1})\n",
            " \n",
            "4.Bigram probabilities: \n",
            " defaultdict(<class 'float'>, {('example', 'sentences'): 1.0, ('sentences', 'for'): 1.0, ('for', 'bigram'): 1.0, ('bigram', 'probabilities'): 1.0})\n",
            "\n",
            "5. Predicted nxt wrd: \n",
            " next\n"
          ]
        }
      ],
      "source": [
        "from collections import Counter\n",
        "def get_unigrams (text):\n",
        " words =text.split()\n",
        " unigrams= Counter (words)\n",
        " return unigrams\n",
        "text = \"NLP assignment one\"\n",
        "unigrams = get_unigrams (text)\n",
        "print(\"1. Unigrams: \\n\", unigrams)\n",
        "print (\"\")\n",
        "from collections import Counter\n",
        "from nltk import bigrams\n",
        "def get_bigrams (text):\n",
        " words=text.split()\n",
        " bigrams_list = list(bigrams (words))\n",
        " bigrams_count = Counter (bigrams_list)\n",
        " return bigrams_count\n",
        "text = \"here is a bigram example \"\n",
        "bigrams = get_bigrams (text)\n",
        "print(\"2.Bigrams: \\n\", bigrams)\n",
        "print(\"\")\n",
        "from collections import Counter\n",
        "from nltk import trigrams\n",
        "def get_trigrams (text):\n",
        " words =text.split()\n",
        " trigrams_list = list(trigrams (words))\n",
        " trigrams_count = Counter (trigrams_list)\n",
        " return trigrams_count\n",
        "text = \"example of trigram in nlp\"\n",
        "trigrams = get_trigrams (text)\n",
        "print(\"3. Trigrams: \\n\", trigrams)\n",
        "print (\" \")\n",
        "from collections import Counter, defaultdict\n",
        "from nltk import bigrams\n",
        "def get_bigram_probabilities (text):\n",
        " words=text.split()\n",
        " bigrams_list = list(bigrams (words))\n",
        " bigram_freq = Counter (bigrams_list)\n",
        " unigram_freq = Counter (words)\n",
        " bigram_probabilities = defaultdict(float)\n",
        " for bigram in bigram_freq:\n",
        "  bigram_probabilities [bigram] = bigram_freq [bigram] / unigram_freq[bigram[0]]\n",
        " return bigram_probabilities\n",
        "text = \"example sentences for bigram probabilities \"\n",
        "bigram_probabilities = get_bigram_probabilities (text)\n",
        "print(\"4.Bigram probabilities: \\n\", bigram_probabilities)\n",
        "print(\"\")\n",
        "def predict_next_word(text, word):\n",
        " bigram_probabilities = get_bigram_probabilities (text)\n",
        " candidates = {bigram [1]: prob for bigram, prob in bigram_probabilities.items() if bigram [0] == word}\n",
        " if not candidates:\n",
        "  return None\n",
        " next_word = max(candidates, key=candidates.get)\n",
        " return next_word\n",
        "text = \"example text for predicting next word\"\n",
        "word=\"predicting\"\n",
        "next_word = predict_next_word(text, word)\n",
        "print(\"5. Predicted nxt wrd: \\n\", next_word)"
      ]
    }
  ]
}